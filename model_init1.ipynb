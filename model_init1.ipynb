{
  "nbformat": 4,
  "nbformat_minor": 0,
  "metadata": {
    "colab": {
      "provenance": [],
      "authorship_tag": "ABX9TyNGzgx3de/WIAqVBOXzHhpm",
      "include_colab_link": true
    },
    "kernelspec": {
      "name": "python3",
      "display_name": "Python 3"
    },
    "language_info": {
      "name": "python"
    }
  },
  "cells": [
    {
      "cell_type": "markdown",
      "metadata": {
        "id": "view-in-github",
        "colab_type": "text"
      },
      "source": [
        "<a href=\"https://colab.research.google.com/github/MaverickDeAI/model2/blob/main/model_init1.ipynb\" target=\"_parent\"><img src=\"https://colab.research.google.com/assets/colab-badge.svg\" alt=\"Open In Colab\"/></a>"
      ]
    },
    {
      "cell_type": "code",
      "execution_count": null,
      "metadata": {
        "id": "zHy6ZSex8Zoj"
      },
      "outputs": [],
      "source": []
    },
    {
      "cell_type": "markdown",
      "source": [
        "common algorithm associated with machine leaning\n",
        "random forest\n",
        "naive bayes\n",
        "nearest neighbor\n",
        "sopport vector machine\n",
        "... and many more\n",
        "\n",
        "\n",
        "\n",
        "common algorithm associated with deep leaning\n",
        "neural network\n",
        "fully connected neural network\n",
        "convolutional neural network\n",
        "Transformer\n",
        "... and many more"
      ],
      "metadata": {
        "id": "jwvJDVXyM7QY"
      }
    }
  ]
}
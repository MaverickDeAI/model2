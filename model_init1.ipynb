{
  "nbformat": 4,
  "nbformat_minor": 0,
  "metadata": {
    "colab": {
      "provenance": [],
      "authorship_tag": "ABX9TyMU7z3ukjFurICxDswlVNTm",
      "include_colab_link": true
    },
    "kernelspec": {
      "name": "python3",
      "display_name": "Python 3"
    },
    "language_info": {
      "name": "python"
    }
  },
  "cells": [
    {
      "cell_type": "markdown",
      "metadata": {
        "id": "view-in-github",
        "colab_type": "text"
      },
      "source": [
        "<a href=\"https://colab.research.google.com/github/MaverickDeAI/model2/blob/main/model_init1.ipynb\" target=\"_parent\"><img src=\"https://colab.research.google.com/assets/colab-badge.svg\" alt=\"Open In Colab\"/></a>"
      ]
    },
    {
      "cell_type": "code",
      "execution_count": 2,
      "metadata": {
        "id": "zHy6ZSex8Zoj"
      },
      "outputs": [],
      "source": [
        "import tensorflow as tf"
      ]
    },
    {
      "cell_type": "markdown",
      "source": [
        "common algorithm associated with machine leaning\n",
        "random forest\n",
        "naive bayes\n",
        "nearest neighbor\n",
        "sopport vector machine\n",
        "... and many more\n",
        "\n",
        "\n",
        "\n",
        "common algorithm associated with deep leaning\n",
        "neural network\n",
        "fully connected neural network\n",
        "convolutional neural network\n",
        "Transformer\n",
        "... and many more"
      ],
      "metadata": {
        "id": "jwvJDVXyM7QY"
      }
    },
    {
      "cell_type": "code",
      "source": [
        "print(tf.__version__)"
      ],
      "metadata": {
        "colab": {
          "base_uri": "https://localhost:8080/"
        },
        "id": "PB9KNgf1WTLP",
        "outputId": "942cea1d-6e4e-4279-ae74-18514a94b432"
      },
      "execution_count": 2,
      "outputs": [
        {
          "output_type": "stream",
          "name": "stdout",
          "text": [
            "2.15.0\n"
          ]
        }
      ]
    },
    {
      "cell_type": "code",
      "source": [
        "tensor1 = tf.constant([1,2,3,4])\n",
        "tensor1.ndim\n",
        "dir(tensor1)"
      ],
      "metadata": {
        "colab": {
          "base_uri": "https://localhost:8080/"
        },
        "id": "TtixZWaHWpeH",
        "outputId": "08c945fa-8c1e-4a28-945d-e53606a5e7ab"
      },
      "execution_count": 5,
      "outputs": [
        {
          "output_type": "execute_result",
          "data": {
            "text/plain": [
              "['OVERLOADABLE_OPERATORS',\n",
              " '_USE_EQUALITY',\n",
              " '__abs__',\n",
              " '__add__',\n",
              " '__and__',\n",
              " '__array__',\n",
              " '__array_priority__',\n",
              " '__bool__',\n",
              " '__class__',\n",
              " '__complex__',\n",
              " '__copy__',\n",
              " '__deepcopy__',\n",
              " '__delattr__',\n",
              " '__dict__',\n",
              " '__dir__',\n",
              " '__div__',\n",
              " '__doc__',\n",
              " '__eq__',\n",
              " '__float__',\n",
              " '__floordiv__',\n",
              " '__format__',\n",
              " '__ge__',\n",
              " '__getattr__',\n",
              " '__getattribute__',\n",
              " '__getitem__',\n",
              " '__gt__',\n",
              " '__hash__',\n",
              " '__index__',\n",
              " '__init__',\n",
              " '__init_subclass__',\n",
              " '__int__',\n",
              " '__invert__',\n",
              " '__iter__',\n",
              " '__le__',\n",
              " '__len__',\n",
              " '__lt__',\n",
              " '__matmul__',\n",
              " '__mod__',\n",
              " '__module__',\n",
              " '__mul__',\n",
              " '__ne__',\n",
              " '__neg__',\n",
              " '__new__',\n",
              " '__nonzero__',\n",
              " '__or__',\n",
              " '__pow__',\n",
              " '__radd__',\n",
              " '__rand__',\n",
              " '__rdiv__',\n",
              " '__reduce__',\n",
              " '__reduce_ex__',\n",
              " '__repr__',\n",
              " '__rfloordiv__',\n",
              " '__rmatmul__',\n",
              " '__rmod__',\n",
              " '__rmul__',\n",
              " '__ror__',\n",
              " '__round__',\n",
              " '__rpow__',\n",
              " '__rsub__',\n",
              " '__rtruediv__',\n",
              " '__rxor__',\n",
              " '__setattr__',\n",
              " '__sizeof__',\n",
              " '__str__',\n",
              " '__sub__',\n",
              " '__subclasshook__',\n",
              " '__tf_tensor__',\n",
              " '__tf_tracing_type__',\n",
              " '__truediv__',\n",
              " '__weakref__',\n",
              " '__xor__',\n",
              " '_add_consumer',\n",
              " '_as_node_def_input',\n",
              " '_as_tf_output',\n",
              " '_capture_as_const',\n",
              " '_copy',\n",
              " '_copy_nograd',\n",
              " '_copy_to_device',\n",
              " '_datatype_enum',\n",
              " '_disallow',\n",
              " '_disallow_bool_casting',\n",
              " '_disallow_iteration',\n",
              " '_get_first_dim',\n",
              " '_handle_data',\n",
              " '_id',\n",
              " '_matmul',\n",
              " '_num_elements',\n",
              " '_numpy',\n",
              " '_numpy_internal',\n",
              " '_numpy_style_getitem',\n",
              " '_override_operator',\n",
              " '_prefer_custom_summarizer',\n",
              " '_rank',\n",
              " '_record_tape',\n",
              " '_shape_as_list',\n",
              " '_shape_tuple',\n",
              " '_summarize_value',\n",
              " '_tensor_shape',\n",
              " '_tf_api_names',\n",
              " '_tf_api_names_v1',\n",
              " '_with_index_add',\n",
              " '_with_index_max',\n",
              " '_with_index_min',\n",
              " '_with_index_update',\n",
              " 'backing_device',\n",
              " 'consumers',\n",
              " 'cpu',\n",
              " 'device',\n",
              " 'dtype',\n",
              " 'eval',\n",
              " 'experimental_ref',\n",
              " 'get_shape',\n",
              " 'gpu',\n",
              " 'graph',\n",
              " 'is_packed',\n",
              " 'name',\n",
              " 'ndim',\n",
              " 'numpy',\n",
              " 'op',\n",
              " 'ref',\n",
              " 'set_shape',\n",
              " 'shape',\n",
              " 'value_index']"
            ]
          },
          "metadata": {},
          "execution_count": 5
        }
      ]
    },
    {
      "cell_type": "markdown",
      "source": [
        "ways to create tensors\n",
        "tf.constant\n",
        "tf.ones\n",
        "tf.random.rand"
      ],
      "metadata": {
        "id": "qdPAgwQDWy65"
      }
    },
    {
      "cell_type": "markdown",
      "source": [
        "Manipulating Tensors"
      ],
      "metadata": {
        "id": "xdXoOXc04Oxs"
      }
    },
    {
      "cell_type": "code",
      "source": [
        "random_1 = tf.random.Generator.from_seed(42)\n",
        "model = random_1.normal(shape=(1,2))\n",
        "model"
      ],
      "metadata": {
        "colab": {
          "base_uri": "https://localhost:8080/"
        },
        "id": "pIs4nHsTW8RJ",
        "outputId": "b571b582-522a-49a4-8902-1551c462883b"
      },
      "execution_count": 8,
      "outputs": [
        {
          "output_type": "execute_result",
          "data": {
            "text/plain": [
              "<tf.Tensor: shape=(1, 2), dtype=float32, numpy=array([[-0.7565803 , -0.06854702]], dtype=float32)>"
            ]
          },
          "metadata": {},
          "execution_count": 8
        }
      ]
    },
    {
      "cell_type": "code",
      "source": [
        "tensor2 = tf.zeros(shape =(2,3,4,5))\n",
        "tensor2"
      ],
      "metadata": {
        "id": "KgSpFtU5BuSG",
        "outputId": "9023478d-3dbc-4886-a892-618ee79a21e2",
        "colab": {
          "base_uri": "https://localhost:8080/"
        }
      },
      "execution_count": 9,
      "outputs": [
        {
          "output_type": "execute_result",
          "data": {
            "text/plain": [
              "<tf.Tensor: shape=(2, 3, 4, 5), dtype=float32, numpy=\n",
              "array([[[[0., 0., 0., 0., 0.],\n",
              "         [0., 0., 0., 0., 0.],\n",
              "         [0., 0., 0., 0., 0.],\n",
              "         [0., 0., 0., 0., 0.]],\n",
              "\n",
              "        [[0., 0., 0., 0., 0.],\n",
              "         [0., 0., 0., 0., 0.],\n",
              "         [0., 0., 0., 0., 0.],\n",
              "         [0., 0., 0., 0., 0.]],\n",
              "\n",
              "        [[0., 0., 0., 0., 0.],\n",
              "         [0., 0., 0., 0., 0.],\n",
              "         [0., 0., 0., 0., 0.],\n",
              "         [0., 0., 0., 0., 0.]]],\n",
              "\n",
              "\n",
              "       [[[0., 0., 0., 0., 0.],\n",
              "         [0., 0., 0., 0., 0.],\n",
              "         [0., 0., 0., 0., 0.],\n",
              "         [0., 0., 0., 0., 0.]],\n",
              "\n",
              "        [[0., 0., 0., 0., 0.],\n",
              "         [0., 0., 0., 0., 0.],\n",
              "         [0., 0., 0., 0., 0.],\n",
              "         [0., 0., 0., 0., 0.]],\n",
              "\n",
              "        [[0., 0., 0., 0., 0.],\n",
              "         [0., 0., 0., 0., 0.],\n",
              "         [0., 0., 0., 0., 0.],\n",
              "         [0., 0., 0., 0., 0.]]]], dtype=float32)>"
            ]
          },
          "metadata": {},
          "execution_count": 9
        }
      ]
    },
    {
      "cell_type": "code",
      "source": [
        "tensor2[:2,:2,:2,:2]"
      ],
      "metadata": {
        "id": "v_94QXSBCUI9",
        "outputId": "5902b7a4-b1b4-4f00-ad58-fb7da757df12",
        "colab": {
          "base_uri": "https://localhost:8080/"
        }
      },
      "execution_count": 13,
      "outputs": [
        {
          "output_type": "execute_result",
          "data": {
            "text/plain": [
              "<tf.Tensor: shape=(2, 2, 2, 2), dtype=float32, numpy=\n",
              "array([[[[0., 0.],\n",
              "         [0., 0.]],\n",
              "\n",
              "        [[0., 0.],\n",
              "         [0., 0.]]],\n",
              "\n",
              "\n",
              "       [[[0., 0.],\n",
              "         [0., 0.]],\n",
              "\n",
              "        [[0., 0.],\n",
              "         [0., 0.]]]], dtype=float32)>"
            ]
          },
          "metadata": {},
          "execution_count": 13
        }
      ]
    }
  ]
}
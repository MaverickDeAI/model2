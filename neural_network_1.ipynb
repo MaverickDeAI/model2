{
  "nbformat": 4,
  "nbformat_minor": 0,
  "metadata": {
    "colab": {
      "provenance": [],
      "authorship_tag": "ABX9TyPxyzww/UJhC9XGPg9kU98W",
      "include_colab_link": true
    },
    "kernelspec": {
      "name": "python3",
      "display_name": "Python 3"
    },
    "language_info": {
      "name": "python"
    }
  },
  "cells": [
    {
      "cell_type": "markdown",
      "metadata": {
        "id": "view-in-github",
        "colab_type": "text"
      },
      "source": [
        "<a href=\"https://colab.research.google.com/github/MaverickDeAI/model2/blob/main/neural_network_1.ipynb\" target=\"_parent\"><img src=\"https://colab.research.google.com/assets/colab-badge.svg\" alt=\"Open In Colab\"/></a>"
      ]
    },
    {
      "cell_type": "markdown",
      "source": [
        "regression 1\n",
        "\n",
        "![download.png](data:image/png;base64,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)"
      ],
      "metadata": {
        "id": "Y_Oz0s8Z9Di2"
      }
    },
    {
      "cell_type": "code",
      "execution_count": 1,
      "metadata": {
        "id": "AKiIJSrY8kX-"
      },
      "outputs": [],
      "source": [
        "import tensorflow as tf"
      ]
    },
    {
      "cell_type": "code",
      "source": [
        "import matplotlib.pyplot as plt\n",
        "import numpy as np"
      ],
      "metadata": {
        "id": "AJgOFzc6_D_r"
      },
      "execution_count": 40,
      "outputs": []
    },
    {
      "cell_type": "code",
      "source": [
        "x =  tf.constant(np.array([1,2,3,4,4,2,23,34,4] ))\n",
        "y =  tf.constant([1,2,3,4,4,2,23,34,4])\n",
        "\n",
        "# plt.scatter(x,y)\\y.shape()\n",
        "y.shape"
      ],
      "metadata": {
        "colab": {
          "base_uri": "https://localhost:8080/"
        },
        "id": "T4bMv0Kv-2id",
        "outputId": "383dcb1f-b125-484b-a46c-d0c5c766ffc5"
      },
      "execution_count": 47,
      "outputs": [
        {
          "output_type": "execute_result",
          "data": {
            "text/plain": [
              "TensorShape([9])"
            ]
          },
          "metadata": {},
          "execution_count": 47
        }
      ]
    },
    {
      "cell_type": "code",
      "source": [
        "tf.random.set_seed(42)\n",
        "\n",
        "model1 = tf.keras.Sequential([\n",
        "    tf.keras.layers.Dense(1,input_shape=(1,)),]\n",
        ")\n",
        "\n",
        "model1.compile(\n",
        "    loss=tf.keras.losses.mae,\n",
        "    optimizer=tf.keras.optimizers.SGD(),\n",
        "    metrics=[\"mae\"]\n",
        ")\n",
        "\n",
        "\n",
        "model1.fit(x,y,epochs=5)"
      ],
      "metadata": {
        "colab": {
          "base_uri": "https://localhost:8080/"
        },
        "id": "e8_scQn5Isb-",
        "outputId": "c15b7684-97ee-4503-d95f-564115737ae1"
      },
      "execution_count": 48,
      "outputs": [
        {
          "output_type": "stream",
          "name": "stdout",
          "text": [
            "Epoch 1/5\n",
            "1/1 [==============================] - 0s 311ms/step - loss: 3.4224 - mae: 3.4224\n",
            "Epoch 2/5\n",
            "1/1 [==============================] - 0s 13ms/step - loss: 2.6805 - mae: 2.6805\n",
            "Epoch 3/5\n",
            "1/1 [==============================] - 0s 12ms/step - loss: 1.9385 - mae: 1.9385\n",
            "Epoch 4/5\n",
            "1/1 [==============================] - 0s 12ms/step - loss: 1.1965 - mae: 1.1965\n",
            "Epoch 5/5\n",
            "1/1 [==============================] - 0s 11ms/step - loss: 0.4545 - mae: 0.4545\n"
          ]
        },
        {
          "output_type": "execute_result",
          "data": {
            "text/plain": [
              "<keras.src.callbacks.History at 0x782e26c805e0>"
            ]
          },
          "metadata": {},
          "execution_count": 48
        }
      ]
    },
    {
      "cell_type": "code",
      "source": [
        "model1.predict(x)"
      ],
      "metadata": {
        "colab": {
          "base_uri": "https://localhost:8080/"
        },
        "id": "2FthasDwOTxk",
        "outputId": "d8e40b80-213b-4eac-8bdc-ec2d78105215"
      },
      "execution_count": 35,
      "outputs": [
        {
          "output_type": "stream",
          "name": "stdout",
          "text": [
            "1/1 [==============================] - 0s 88ms/step\n"
          ]
        },
        {
          "output_type": "execute_result",
          "data": {
            "text/plain": [
              "array([[  2.4169128],\n",
              "       [ -1.1548254],\n",
              "       [-20.844189 ]], dtype=float32)"
            ]
          },
          "metadata": {},
          "execution_count": 35
        }
      ]
    },
    {
      "cell_type": "code",
      "source": [
        "x"
      ],
      "metadata": {
        "colab": {
          "base_uri": "https://localhost:8080/"
        },
        "id": "L4jwLmDCQ2H2",
        "outputId": "437c907c-dd5a-4a40-ad0a-dc6c50b7eabc"
      },
      "execution_count": 37,
      "outputs": [
        {
          "output_type": "execute_result",
          "data": {
            "text/plain": [
              "<tf.Tensor: shape=(3, 3), dtype=int32, numpy=\n",
              "array([[ 1,  2,  3],\n",
              "       [ 4,  4,  2],\n",
              "       [23, 34,  4]], dtype=int32)>"
            ]
          },
          "metadata": {},
          "execution_count": 37
        }
      ]
    }
  ]
}